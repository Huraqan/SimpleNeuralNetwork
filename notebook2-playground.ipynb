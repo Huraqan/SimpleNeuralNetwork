{
 "cells": [
  {
   "cell_type": "code",
   "execution_count": 1,
   "metadata": {},
   "outputs": [],
   "source": [
    "from data.data_handler import load_data_wrapper, get_first_10_digits, show_as_image\n",
    "\n",
    "training_data, validation_data, test_data = load_data_wrapper(noise=True)\n",
    "\n",
    "ten_digits = get_first_10_digits(validation_data, i=0)"
   ]
  },
  {
   "cell_type": "code",
   "execution_count": null,
   "metadata": {},
   "outputs": [],
   "source": [
    "from network.SimpleNeuralNetwork import SimpleNeuralNetwork\n",
    "\n",
    "NAME = \"neural_network_49_16_11\"\n",
    "\n",
    "# net = SimpleNeuralNetwork(sizes=[28*28, 16, 16, 10])        # use load_data_wrapper(noise=False)\n",
    "net = SimpleNeuralNetwork(sizes=[28*28, 49, 16, 11])        # use load_data_wrapper(noise=True)\n",
    "\n",
    "# net = SimpleNeuralNetwork.load_from_file(NAME + \".pickle\")"
   ]
  },
  {
   "cell_type": "code",
   "execution_count": null,
   "metadata": {},
   "outputs": [],
   "source": [
    "net.validate(test_data[:500])"
   ]
  },
  {
   "cell_type": "code",
   "execution_count": null,
   "metadata": {},
   "outputs": [],
   "source": [
    "digit = ten_digits[2]\n",
    "show_as_image(digit[0])\n",
    "output = net.predict(digit[0], verbose=True)"
   ]
  },
  {
   "cell_type": "code",
   "execution_count": null,
   "metadata": {},
   "outputs": [],
   "source": [
    "show_as_image(validation_data[-1][0])\n",
    "output = net.predict(validation_data[-1][0], verbose=True)"
   ]
  },
  {
   "cell_type": "code",
   "execution_count": null,
   "metadata": {},
   "outputs": [],
   "source": [
    "net.train_network(training_data, batch_size=100, epochs=1, filepath= NAME + \".pickle\")"
   ]
  },
  {
   "cell_type": "code",
   "execution_count": null,
   "metadata": {},
   "outputs": [],
   "source": [
    "net.validate(test_data, csv_path= NAME + \".csv\")"
   ]
  },
  {
   "cell_type": "markdown",
   "metadata": {},
   "source": [
    "# Let's take a look at the ten picked digits"
   ]
  },
  {
   "cell_type": "code",
   "execution_count": null,
   "metadata": {},
   "outputs": [],
   "source": [
    "net.validate(ten_digits, return_df=True)"
   ]
  },
  {
   "cell_type": "code",
   "execution_count": null,
   "metadata": {},
   "outputs": [],
   "source": [
    "for digit in ten_digits:\n",
    "    show_as_image(digit[0])\n",
    "    _ = net.predict(digit[0], verbose=True)"
   ]
  },
  {
   "cell_type": "code",
   "execution_count": null,
   "metadata": {},
   "outputs": [],
   "source": [
    "show_as_image(validation_data[-1][0])\n",
    "output = net.predict(validation_data[-1][0], verbose=True)"
   ]
  },
  {
   "cell_type": "markdown",
   "metadata": {},
   "source": [
    "# And what if we trained specific examples?"
   ]
  },
  {
   "cell_type": "markdown",
   "metadata": {},
   "source": [
    "Here are the ten arbitrary digits we picked from our test data. Try and train the network just once on any single digit and try validating all 10 digits again."
   ]
  },
  {
   "cell_type": "code",
   "execution_count": null,
   "metadata": {},
   "outputs": [],
   "source": [
    "net.validate(ten_digits, return_df=True)"
   ]
  },
  {
   "cell_type": "code",
   "execution_count": null,
   "metadata": {},
   "outputs": [],
   "source": [
    "net.stochastic_gradient_descent(batches=[[ten_digits[0]]], re_score=True)"
   ]
  },
  {
   "cell_type": "code",
   "execution_count": null,
   "metadata": {},
   "outputs": [],
   "source": [
    "net.stochastic_gradient_descent(batches=[[ten_digits[1]]], re_score=True)"
   ]
  },
  {
   "cell_type": "code",
   "execution_count": null,
   "metadata": {},
   "outputs": [],
   "source": [
    "net.stochastic_gradient_descent(batches=[[ten_digits[2]]], re_score=True)"
   ]
  },
  {
   "cell_type": "code",
   "execution_count": null,
   "metadata": {},
   "outputs": [],
   "source": [
    "net.stochastic_gradient_descent(batches=[[ten_digits[3]]], re_score=True)"
   ]
  },
  {
   "cell_type": "code",
   "execution_count": null,
   "metadata": {},
   "outputs": [],
   "source": [
    "net.stochastic_gradient_descent(batches=[[ten_digits[4]]], re_score=True)"
   ]
  },
  {
   "cell_type": "code",
   "execution_count": null,
   "metadata": {},
   "outputs": [],
   "source": [
    "net.stochastic_gradient_descent(batches=[[ten_digits[5]]], re_score=True)"
   ]
  },
  {
   "cell_type": "code",
   "execution_count": null,
   "metadata": {},
   "outputs": [],
   "source": [
    "net.stochastic_gradient_descent(batches=[[ten_digits[6]]], re_score=True)"
   ]
  },
  {
   "cell_type": "code",
   "execution_count": null,
   "metadata": {},
   "outputs": [],
   "source": [
    "net.stochastic_gradient_descent(batches=[[ten_digits[7]]], re_score=True)"
   ]
  },
  {
   "cell_type": "code",
   "execution_count": null,
   "metadata": {},
   "outputs": [],
   "source": [
    "net.stochastic_gradient_descent(batches=[[ten_digits[8]]], re_score=True)"
   ]
  },
  {
   "cell_type": "code",
   "execution_count": null,
   "metadata": {},
   "outputs": [],
   "source": [
    "net.stochastic_gradient_descent(batches=[[ten_digits[9]]], re_score=True)"
   ]
  }
 ],
 "metadata": {
  "kernelspec": {
   "display_name": "Python 3",
   "language": "python",
   "name": "python3"
  },
  "language_info": {
   "codemirror_mode": {
    "name": "ipython",
    "version": 3
   },
   "file_extension": ".py",
   "mimetype": "text/x-python",
   "name": "python",
   "nbconvert_exporter": "python",
   "pygments_lexer": "ipython3",
   "version": "3.12.1"
  }
 },
 "nbformat": 4,
 "nbformat_minor": 2
}
