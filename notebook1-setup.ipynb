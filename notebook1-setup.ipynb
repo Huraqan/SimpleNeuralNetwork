{
 "cells": [
  {
   "cell_type": "markdown",
   "metadata": {},
   "source": [
    "# Loading the data\n",
    "Data is loaded as three lists of tuples for `training_data`, `validation_data` and `test_data`. The tuples contain the input and the expected output as column vectors."
   ]
  },
  {
   "cell_type": "code",
   "execution_count": null,
   "metadata": {},
   "outputs": [],
   "source": [
    "from data.data_handler import load_data_wrapper, show_as_image\n",
    "\n",
    "training_data, validation_data, test_data = load_data_wrapper(noise=False)"
   ]
  },
  {
   "cell_type": "markdown",
   "metadata": {},
   "source": [
    "# Creating an instance of the network"
   ]
  },
  {
   "cell_type": "code",
   "execution_count": null,
   "metadata": {},
   "outputs": [],
   "source": [
    "from network.SimpleNeuralNetwork import SimpleNeuralNetwork\n",
    "\n",
    "NAME = \"neural_network\"\n",
    "EPOCHS = 3\n",
    "SIZES = [28 * 28, 49, 16, 10]\n",
    "\n",
    "net = SimpleNeuralNetwork(sizes=SIZES)\n",
    "# net = SimpleNeuralNetwork.load_from_file(fp= NAME + \".pickle\")"
   ]
  },
  {
   "cell_type": "markdown",
   "metadata": {},
   "source": [
    "# Training the network\n",
    "The model's train_network function can be called with the list of training tuples."
   ]
  },
  {
   "cell_type": "code",
   "execution_count": null,
   "metadata": {},
   "outputs": [],
   "source": [
    "net.train_network(training_data, batch_size=100, epochs=EPOCHS, filepath= NAME + \".pickle\")"
   ]
  },
  {
   "cell_type": "markdown",
   "metadata": {},
   "source": [
    "# Score your model"
   ]
  },
  {
   "cell_type": "code",
   "execution_count": null,
   "metadata": {},
   "outputs": [],
   "source": [
    "net.validate(test_data, csv_path= NAME + \".csv\")"
   ]
  },
  {
   "cell_type": "markdown",
   "metadata": {},
   "source": [
    "# Predict"
   ]
  },
  {
   "cell_type": "code",
   "execution_count": null,
   "metadata": {},
   "outputs": [],
   "source": [
    "inp, exp_out = test_data[4269]\n",
    "show_as_image(inp)\n",
    "\n",
    "output = net.predict(inp, verbose=True)"
   ]
  }
 ],
 "metadata": {
  "kernelspec": {
   "display_name": "venv",
   "language": "python",
   "name": "python3"
  },
  "language_info": {
   "codemirror_mode": {
    "name": "ipython",
    "version": 3
   },
   "file_extension": ".py",
   "mimetype": "text/x-python",
   "name": "python",
   "nbconvert_exporter": "python",
   "pygments_lexer": "ipython3",
   "version": "3.12.1"
  }
 },
 "nbformat": 4,
 "nbformat_minor": 2
}
