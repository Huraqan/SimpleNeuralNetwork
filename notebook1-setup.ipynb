{
 "cells": [
  {
   "cell_type": "markdown",
   "metadata": {},
   "source": [
    "# Loading the data\n",
    "Data is loaded as three lists of tuples for `training_data`, `validation_data` and `test_data`. The tuples contain the input and the expected output as column vectors."
   ]
  },
  {
   "cell_type": "code",
   "execution_count": 28,
   "metadata": {},
   "outputs": [],
   "source": [
    "from data.data_handler import load_data_wrapper\n",
    "\n",
    "training_data, validation_data, test_data = load_data_wrapper(noise=False)"
   ]
  },
  {
   "cell_type": "markdown",
   "metadata": {},
   "source": [
    "# Creating an instance of the network"
   ]
  },
  {
   "cell_type": "code",
   "execution_count": 29,
   "metadata": {},
   "outputs": [],
   "source": [
    "from network.SimpleNeuralNetwork import SimpleNeuralNetwork\n",
    "\n",
    "EPOCHS = 5\n",
    "SIZES = [28 * 28, 16, 16, 10]\n",
    "\n",
    "# net = SimpleNeuralNetwork(sizes=SIZES)\n",
    "net = SimpleNeuralNetwork.load_from_file(fp=\"neural_network_normal_5e_16_16.pickle\")"
   ]
  },
  {
   "cell_type": "markdown",
   "metadata": {},
   "source": [
    "# Training the network\n",
    "The model's train_network function can be called with the list of training tuples."
   ]
  },
  {
   "cell_type": "code",
   "execution_count": 39,
   "metadata": {},
   "outputs": [
    {
     "name": "stdout",
     "output_type": "stream",
     "text": [
      "\n",
      "Training network of size: [784, 16, 16, 10]\n",
      "Number of finished epochs on this instance: 25\n",
      "\n",
      "=== EPOCH: 1 / 5 ============================================================================\n",
      "\n",
      "Done! Average score during training: \u001b[92m|||||||||||||||||||||||||||||||||||||||||||||||\u001b[0m\u001b[91m|||\u001b[0m  0.950\n",
      "\n",
      "File saved as neural_network_normal_5e_16_16.pickle \n",
      "\n",
      "\n",
      "=== EPOCH: 2 / 5 ============================================================================\n",
      "\n",
      "Done! Average score during training: \u001b[92m|||||||||||||||||||||||||||||||||||||||||||||||\u001b[0m\u001b[91m|||\u001b[0m  0.951\n",
      "\n",
      "File saved as neural_network_normal_5e_16_16.pickle \n",
      "\n",
      "\n",
      "=== EPOCH: 3 / 5 ============================================================================\n",
      "\n",
      "Done! Average score during training: \u001b[92m|||||||||||||||||||||||||||||||||||||||||||||||\u001b[0m\u001b[91m|||\u001b[0m  0.952\n",
      "\n",
      "File saved as neural_network_normal_5e_16_16.pickle \n",
      "\n",
      "\n",
      "=== EPOCH: 4 / 5 ============================================================================\n",
      "\n",
      "Done! Average score during training: \u001b[92m|||||||||||||||||||||||||||||||||||||||||||||||\u001b[0m\u001b[91m|||\u001b[0m  0.953\n",
      "\n",
      "File saved as neural_network_normal_5e_16_16.pickle \n",
      "\n",
      "\n",
      "=== EPOCH: 5 / 5 ============================================================================\n",
      "\n",
      "Done! Average score during training: \u001b[92m|||||||||||||||||||||||||||||||||||||||||||||||\u001b[0m\u001b[91m|||\u001b[0m  0.954\n",
      "\n",
      "File saved as neural_network_normal_5e_16_16.pickle \n",
      "\n"
     ]
    }
   ],
   "source": [
    "net.train_network(training_data, batch_size=100, epochs=EPOCHS, filepath=\"neural_network_normal_5e_16_16.pickle\")"
   ]
  },
  {
   "cell_type": "markdown",
   "metadata": {},
   "source": [
    "# Score your model"
   ]
  },
  {
   "cell_type": "code",
   "execution_count": 40,
   "metadata": {},
   "outputs": [
    {
     "name": "stdout",
     "output_type": "stream",
     "text": [
      "10000 samples, final score: \u001b[92m|||||||||||||||||||||||||||||||||||||||||||||||\u001b[0m\u001b[91m|||\u001b[0m  0.942                            \n"
     ]
    }
   ],
   "source": [
    "net.validate(validation_data, csv_path=\"costs_normal_5e_16_16.csv\")"
   ]
  },
  {
   "cell_type": "code",
   "execution_count": 41,
   "metadata": {},
   "outputs": [
    {
     "name": "stdout",
     "output_type": "stream",
     "text": [
      "10000 samples, final score: \u001b[92m||||||||||||||||||||||||||||||||||||||||||||||\u001b[0m\u001b[91m||||\u001b[0m  0.937                            \n"
     ]
    }
   ],
   "source": [
    "net.validate(test_data, csv_path=\"costs_normal_5e_16_16.csv\")"
   ]
  }
 ],
 "metadata": {
  "kernelspec": {
   "display_name": "venv",
   "language": "python",
   "name": "python3"
  },
  "language_info": {
   "codemirror_mode": {
    "name": "ipython",
    "version": 3
   },
   "file_extension": ".py",
   "mimetype": "text/x-python",
   "name": "python",
   "nbconvert_exporter": "python",
   "pygments_lexer": "ipython3",
   "version": "3.12.1"
  }
 },
 "nbformat": 4,
 "nbformat_minor": 2
}
