{
 "cells": [
  {
   "cell_type": "markdown",
   "metadata": {},
   "source": [
    "# Loading the data\n",
    "Data is loaded as three lists of tuples for `training_data`, `validation_data` and `test_data`. The tuples contain the input and the expected output as column vectors."
   ]
  },
  {
   "cell_type": "code",
   "execution_count": 1,
   "metadata": {},
   "outputs": [],
   "source": [
    "from data.data_handler import load_data_wrapper, show_as_image\n",
    "\n",
    "training_data, validation_data, test_data = load_data_wrapper(noise=False)"
   ]
  },
  {
   "cell_type": "markdown",
   "metadata": {},
   "source": [
    "# Creating an instance of the network"
   ]
  },
  {
   "cell_type": "code",
   "execution_count": 3,
   "metadata": {},
   "outputs": [],
   "source": [
    "from network.SimpleNeuralNetwork import SimpleNeuralNetwork\n",
    "\n",
    "NAME = \"neural_network\"\n",
    "EPOCHS = 3\n",
    "SIZES = [28 * 28, 49, 16, 10]\n",
    "\n",
    "net = SimpleNeuralNetwork(sizes=SIZES)\n",
    "# net = SimpleNeuralNetwork.load_from_file(fp= NAME + \".pickle\")"
   ]
  },
  {
   "cell_type": "markdown",
   "metadata": {},
   "source": [
    "# Training the network\n",
    "The model's train_network function can be called with the list of training tuples."
   ]
  },
  {
   "cell_type": "code",
   "execution_count": 4,
   "metadata": {},
   "outputs": [
    {
     "name": "stdout",
     "output_type": "stream",
     "text": [
      "\n",
      "Training network of size: [784, 49, 16, 10]\n",
      "Number of finished epochs on this instance: 0\n",
      "\n",
      "=== EPOCH: 1 / 3 ============================================================================\n",
      "\n",
      "Done! Average score during training: \u001b[92m||||||||||||||||||||||||||||||||||\u001b[0m\u001b[91m||||||||||||||||\u001b[0m  0.695\n",
      "\n",
      "File saved as neural_network.pickle \n",
      "\n",
      "\n",
      "=== EPOCH: 2 / 3 ============================================================================\n",
      "\n",
      "Done! Average score during training: \u001b[92m|||||||||||||||||||||||||||||||||||||||||||\u001b[0m\u001b[91m|||||||\u001b[0m  0.864\n",
      "\n",
      "File saved as neural_network.pickle \n",
      "\n",
      "\n",
      "=== EPOCH: 3 / 3 ============================================================================\n",
      "\n",
      "Done! Average score during training: \u001b[92m||||||||||||||||||||||||||||||||||||||||||||\u001b[0m\u001b[91m||||||\u001b[0m  0.898\n",
      "\n",
      "File saved as neural_network.pickle \n",
      "\n"
     ]
    }
   ],
   "source": [
    "net.train_network(training_data, batch_size=100, epochs=EPOCHS, filepath= NAME + \".pickle\")"
   ]
  },
  {
   "cell_type": "markdown",
   "metadata": {},
   "source": [
    "# Score your model"
   ]
  },
  {
   "cell_type": "code",
   "execution_count": 5,
   "metadata": {},
   "outputs": [
    {
     "name": "stdout",
     "output_type": "stream",
     "text": [
      "10000 samples, final score: \u001b[92m|||||||||||||||||||||||||||||||||||||||||||||\u001b[0m\u001b[91m|||||\u001b[0m  0.914                            \n"
     ]
    }
   ],
   "source": [
    "net.validate(test_data, csv_path= NAME + \".csv\")"
   ]
  },
  {
   "cell_type": "markdown",
   "metadata": {},
   "source": [
    "# Predict"
   ]
  },
  {
   "cell_type": "code",
   "execution_count": 7,
   "metadata": {},
   "outputs": [
    {
     "data": {
      "image/png": "[encoded data removed]",
      "text/plain": [
       "<Figure size 640x480 with 1 Axes>"
      ]
     },
     "metadata": {},
     "output_type": "display_data"
    },
    {
     "name": "stdout",
     "output_type": "stream",
     "text": [
      "   OUTPUT  SIMPLE  SOFTMAX\n",
      "0   0.001   0.001    0.088\n",
      "1   0.001   0.001    0.088\n",
      "2   0.757   0.810    0.188\n",
      "3   0.132   0.141    0.101\n",
      "4   0.000   0.000    0.088\n",
      "5   0.001   0.001    0.088\n",
      "6   0.000   0.000    0.088\n",
      "7   0.001   0.001    0.088\n",
      "8   0.013   0.014    0.089\n",
      "9   0.029   0.031    0.091 \n",
      "\n"
     ]
    }
   ],
   "source": [
    "inp, exp_out = test_data[4260]\n",
    "show_as_image(inp)\n",
    "\n",
    "output = net.predict(inp, verbose=True)"
   ]
  }
 ],
 "metadata": {
  "kernelspec": {
   "display_name": "venv",
   "language": "python",
   "name": "python3"
  },
  "language_info": {
   "codemirror_mode": {
    "name": "ipython",
    "version": 3
   },
   "file_extension": ".py",
   "mimetype": "text/x-python",
   "name": "python",
   "nbconvert_exporter": "python",
   "pygments_lexer": "ipython3",
   "version": "3.12.1"
  }
 },
 "nbformat": 4,
 "nbformat_minor": 2
}
